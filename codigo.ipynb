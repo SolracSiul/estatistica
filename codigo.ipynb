{
 "cells": [
  {
   "cell_type": "code",
   "execution_count": 9,
   "metadata": {},
   "outputs": [
    {
     "name": "stdout",
     "output_type": "stream",
     "text": [
      "Collecting pandas\n",
      "  Obtaining dependency information for pandas from https://files.pythonhosted.org/packages/22/a5/a0b255295406ed54269814bc93723cfd1a0da63fb9aaf99e1364f07923e5/pandas-2.2.2-cp312-cp312-win_amd64.whl.metadata\n",
      "  Using cached pandas-2.2.2-cp312-cp312-win_amd64.whl.metadata (19 kB)\n",
      "Requirement already satisfied: numpy>=1.26.0 in c:\\python312\\lib\\site-packages (from pandas) (2.1.0)\n",
      "Requirement already satisfied: python-dateutil>=2.8.2 in c:\\users\\crlui\\appdata\\roaming\\python\\python312\\site-packages (from pandas) (2.9.0.post0)\n",
      "Requirement already satisfied: pytz>=2020.1 in c:\\python312\\lib\\site-packages (from pandas) (2024.1)\n",
      "Requirement already satisfied: tzdata>=2022.7 in c:\\python312\\lib\\site-packages (from pandas) (2024.1)\n",
      "Requirement already satisfied: six>=1.5 in c:\\users\\crlui\\appdata\\roaming\\python\\python312\\site-packages (from python-dateutil>=2.8.2->pandas) (1.16.0)\n",
      "Using cached pandas-2.2.2-cp312-cp312-win_amd64.whl (11.5 MB)\n",
      "Installing collected packages: pandas\n",
      "Successfully installed pandas-2.2.2\n"
     ]
    },
    {
     "name": "stderr",
     "output_type": "stream",
     "text": [
      "\n",
      "[notice] A new release of pip is available: 23.2.1 -> 24.2\n",
      "[notice] To update, run: python.exe -m pip install --upgrade pip\n"
     ]
    }
   ],
   "source": [
    "!pip install pandas"
   ]
  },
  {
   "cell_type": "code",
   "execution_count": null,
   "metadata": {},
   "outputs": [],
   "source": [
    "import pandas as pd\n",
    "import cutecharts.charts as ctc"
   ]
  },
  {
   "cell_type": "code",
   "execution_count": 16,
   "metadata": {},
   "outputs": [],
   "source": [
    "microdadods_enem_pb = pd.read_csv(\"./microdados_enem_PB_2019.csv\", index_col=0)"
   ]
  },
  {
   "cell_type": "code",
   "execution_count": 17,
   "metadata": {},
   "outputs": [
    {
     "data": {
      "text/html": [
       "<div>\n",
       "<style scoped>\n",
       "    .dataframe tbody tr th:only-of-type {\n",
       "        vertical-align: middle;\n",
       "    }\n",
       "\n",
       "    .dataframe tbody tr th {\n",
       "        vertical-align: top;\n",
       "    }\n",
       "\n",
       "    .dataframe thead th {\n",
       "        text-align: right;\n",
       "    }\n",
       "</style>\n",
       "<table border=\"1\" class=\"dataframe\">\n",
       "  <thead>\n",
       "    <tr style=\"text-align: right;\">\n",
       "      <th></th>\n",
       "      <th>NU_ANO</th>\n",
       "      <th>CO_MUNICIPIO_RESIDENCIA</th>\n",
       "      <th>NO_MUNICIPIO_RESIDENCIA</th>\n",
       "      <th>CO_UF_RESIDENCIA</th>\n",
       "      <th>SG_UF_RESIDENCIA</th>\n",
       "      <th>NU_IDADE</th>\n",
       "      <th>TP_SEXO</th>\n",
       "      <th>TP_ESTADO_CIVIL</th>\n",
       "      <th>TP_COR_RACA</th>\n",
       "      <th>TP_NACIONALIDADE</th>\n",
       "      <th>...</th>\n",
       "      <th>Q016</th>\n",
       "      <th>Q017</th>\n",
       "      <th>Q018</th>\n",
       "      <th>Q019</th>\n",
       "      <th>Q020</th>\n",
       "      <th>Q021</th>\n",
       "      <th>Q022</th>\n",
       "      <th>Q023</th>\n",
       "      <th>Q024</th>\n",
       "      <th>Q025</th>\n",
       "    </tr>\n",
       "    <tr>\n",
       "      <th>NU_INSCRICAO</th>\n",
       "      <th></th>\n",
       "      <th></th>\n",
       "      <th></th>\n",
       "      <th></th>\n",
       "      <th></th>\n",
       "      <th></th>\n",
       "      <th></th>\n",
       "      <th></th>\n",
       "      <th></th>\n",
       "      <th></th>\n",
       "      <th></th>\n",
       "      <th></th>\n",
       "      <th></th>\n",
       "      <th></th>\n",
       "      <th></th>\n",
       "      <th></th>\n",
       "      <th></th>\n",
       "      <th></th>\n",
       "      <th></th>\n",
       "      <th></th>\n",
       "      <th></th>\n",
       "    </tr>\n",
       "  </thead>\n",
       "  <tbody>\n",
       "    <tr>\n",
       "      <th>190001037515</th>\n",
       "      <td>2019</td>\n",
       "      <td>2507507</td>\n",
       "      <td>João Pessoa</td>\n",
       "      <td>25</td>\n",
       "      <td>PB</td>\n",
       "      <td>22</td>\n",
       "      <td>M</td>\n",
       "      <td>1</td>\n",
       "      <td>3</td>\n",
       "      <td>1</td>\n",
       "      <td>...</td>\n",
       "      <td>B</td>\n",
       "      <td>A</td>\n",
       "      <td>B</td>\n",
       "      <td>C</td>\n",
       "      <td>A</td>\n",
       "      <td>A</td>\n",
       "      <td>B</td>\n",
       "      <td>A</td>\n",
       "      <td>B</td>\n",
       "      <td>B</td>\n",
       "    </tr>\n",
       "    <tr>\n",
       "      <th>190001125426</th>\n",
       "      <td>2019</td>\n",
       "      <td>2504009</td>\n",
       "      <td>Campina Grande</td>\n",
       "      <td>25</td>\n",
       "      <td>PB</td>\n",
       "      <td>19</td>\n",
       "      <td>M</td>\n",
       "      <td>1</td>\n",
       "      <td>1</td>\n",
       "      <td>1</td>\n",
       "      <td>...</td>\n",
       "      <td>B</td>\n",
       "      <td>A</td>\n",
       "      <td>A</td>\n",
       "      <td>B</td>\n",
       "      <td>A</td>\n",
       "      <td>A</td>\n",
       "      <td>C</td>\n",
       "      <td>A</td>\n",
       "      <td>A</td>\n",
       "      <td>B</td>\n",
       "    </tr>\n",
       "    <tr>\n",
       "      <th>190001141066</th>\n",
       "      <td>2019</td>\n",
       "      <td>2516607</td>\n",
       "      <td>Tavares</td>\n",
       "      <td>25</td>\n",
       "      <td>PB</td>\n",
       "      <td>21</td>\n",
       "      <td>F</td>\n",
       "      <td>1</td>\n",
       "      <td>3</td>\n",
       "      <td>1</td>\n",
       "      <td>...</td>\n",
       "      <td>B</td>\n",
       "      <td>A</td>\n",
       "      <td>A</td>\n",
       "      <td>D</td>\n",
       "      <td>B</td>\n",
       "      <td>A</td>\n",
       "      <td>E</td>\n",
       "      <td>A</td>\n",
       "      <td>C</td>\n",
       "      <td>B</td>\n",
       "    </tr>\n",
       "    <tr>\n",
       "      <th>190001141273</th>\n",
       "      <td>2019</td>\n",
       "      <td>2502409</td>\n",
       "      <td>Bonito de Santa Fé</td>\n",
       "      <td>25</td>\n",
       "      <td>PB</td>\n",
       "      <td>36</td>\n",
       "      <td>M</td>\n",
       "      <td>1</td>\n",
       "      <td>3</td>\n",
       "      <td>1</td>\n",
       "      <td>...</td>\n",
       "      <td>A</td>\n",
       "      <td>A</td>\n",
       "      <td>A</td>\n",
       "      <td>B</td>\n",
       "      <td>B</td>\n",
       "      <td>A</td>\n",
       "      <td>B</td>\n",
       "      <td>A</td>\n",
       "      <td>A</td>\n",
       "      <td>B</td>\n",
       "    </tr>\n",
       "    <tr>\n",
       "      <th>190001165087</th>\n",
       "      <td>2019</td>\n",
       "      <td>2514503</td>\n",
       "      <td>São José de Piranhas</td>\n",
       "      <td>25</td>\n",
       "      <td>PB</td>\n",
       "      <td>20</td>\n",
       "      <td>F</td>\n",
       "      <td>1</td>\n",
       "      <td>0</td>\n",
       "      <td>1</td>\n",
       "      <td>...</td>\n",
       "      <td>A</td>\n",
       "      <td>A</td>\n",
       "      <td>A</td>\n",
       "      <td>B</td>\n",
       "      <td>B</td>\n",
       "      <td>A</td>\n",
       "      <td>C</td>\n",
       "      <td>A</td>\n",
       "      <td>A</td>\n",
       "      <td>B</td>\n",
       "    </tr>\n",
       "  </tbody>\n",
       "</table>\n",
       "<p>5 rows × 135 columns</p>\n",
       "</div>"
      ],
      "text/plain": [
       "              NU_ANO  CO_MUNICIPIO_RESIDENCIA NO_MUNICIPIO_RESIDENCIA  \\\n",
       "NU_INSCRICAO                                                            \n",
       "190001037515    2019                  2507507             João Pessoa   \n",
       "190001125426    2019                  2504009          Campina Grande   \n",
       "190001141066    2019                  2516607                 Tavares   \n",
       "190001141273    2019                  2502409      Bonito de Santa Fé   \n",
       "190001165087    2019                  2514503    São José de Piranhas   \n",
       "\n",
       "              CO_UF_RESIDENCIA SG_UF_RESIDENCIA  NU_IDADE TP_SEXO  \\\n",
       "NU_INSCRICAO                                                        \n",
       "190001037515                25               PB        22       M   \n",
       "190001125426                25               PB        19       M   \n",
       "190001141066                25               PB        21       F   \n",
       "190001141273                25               PB        36       M   \n",
       "190001165087                25               PB        20       F   \n",
       "\n",
       "              TP_ESTADO_CIVIL  TP_COR_RACA  TP_NACIONALIDADE  ...  Q016 Q017  \\\n",
       "NU_INSCRICAO                                                  ...              \n",
       "190001037515                1            3                 1  ...     B    A   \n",
       "190001125426                1            1                 1  ...     B    A   \n",
       "190001141066                1            3                 1  ...     B    A   \n",
       "190001141273                1            3                 1  ...     A    A   \n",
       "190001165087                1            0                 1  ...     A    A   \n",
       "\n",
       "              Q018 Q019  Q020  Q021  Q022  Q023  Q024  Q025  \n",
       "NU_INSCRICAO                                                 \n",
       "190001037515     B    C     A     A     B     A     B     B  \n",
       "190001125426     A    B     A     A     C     A     A     B  \n",
       "190001141066     A    D     B     A     E     A     C     B  \n",
       "190001141273     A    B     B     A     B     A     A     B  \n",
       "190001165087     A    B     B     A     C     A     A     B  \n",
       "\n",
       "[5 rows x 135 columns]"
      ]
     },
     "execution_count": 17,
     "metadata": {},
     "output_type": "execute_result"
    }
   ],
   "source": [
    "microdadods_enem_pb.head()"
   ]
  },
  {
   "cell_type": "code",
   "execution_count": 18,
   "metadata": {},
   "outputs": [
    {
     "data": {
      "text/plain": [
       "array(['PB'], dtype=object)"
      ]
     },
     "execution_count": 18,
     "metadata": {},
     "output_type": "execute_result"
    }
   ],
   "source": [
    "microdadods_enem_pb.SG_UF_RESIDENCIA.unique()"
   ]
  },
  {
   "cell_type": "code",
   "execution_count": 19,
   "metadata": {},
   "outputs": [
    {
     "data": {
      "text/plain": [
       "array(['NU_ANO', 'CO_MUNICIPIO_RESIDENCIA', 'NO_MUNICIPIO_RESIDENCIA',\n",
       "       'CO_UF_RESIDENCIA', 'SG_UF_RESIDENCIA', 'NU_IDADE', 'TP_SEXO',\n",
       "       'TP_ESTADO_CIVIL', 'TP_COR_RACA', 'TP_NACIONALIDADE',\n",
       "       'CO_MUNICIPIO_NASCIMENTO', 'NO_MUNICIPIO_NASCIMENTO',\n",
       "       'CO_UF_NASCIMENTO', 'SG_UF_NASCIMENTO', 'TP_ST_CONCLUSAO',\n",
       "       'TP_ANO_CONCLUIU', 'TP_ESCOLA', 'TP_ENSINO', 'IN_TREINEIRO',\n",
       "       'CO_ESCOLA', 'CO_MUNICIPIO_ESC', 'NO_MUNICIPIO_ESC', 'CO_UF_ESC',\n",
       "       'SG_UF_ESC', 'TP_DEPENDENCIA_ADM_ESC', 'TP_LOCALIZACAO_ESC',\n",
       "       'TP_SIT_FUNC_ESC', 'IN_BAIXA_VISAO', 'IN_CEGUEIRA', 'IN_SURDEZ',\n",
       "       'IN_DEFICIENCIA_AUDITIVA', 'IN_SURDO_CEGUEIRA',\n",
       "       'IN_DEFICIENCIA_FISICA', 'IN_DEFICIENCIA_MENTAL',\n",
       "       'IN_DEFICIT_ATENCAO', 'IN_DISLEXIA', 'IN_DISCALCULIA',\n",
       "       'IN_AUTISMO', 'IN_VISAO_MONOCULAR', 'IN_OUTRA_DEF', 'IN_GESTANTE',\n",
       "       'IN_LACTANTE', 'IN_IDOSO', 'IN_ESTUDA_CLASSE_HOSPITALAR',\n",
       "       'IN_SEM_RECURSO', 'IN_BRAILLE', 'IN_AMPLIADA_24', 'IN_AMPLIADA_18',\n",
       "       'IN_LEDOR', 'IN_ACESSO', 'IN_TRANSCRICAO', 'IN_LIBRAS',\n",
       "       'IN_TEMPO_ADICIONAL', 'IN_LEITURA_LABIAL', 'IN_MESA_CADEIRA_RODAS',\n",
       "       'IN_MESA_CADEIRA_SEPARADA', 'IN_APOIO_PERNA', 'IN_GUIA_INTERPRETE',\n",
       "       'IN_COMPUTADOR', 'IN_CADEIRA_ESPECIAL', 'IN_CADEIRA_CANHOTO',\n",
       "       'IN_CADEIRA_ACOLCHOADA', 'IN_PROVA_DEITADO', 'IN_MOBILIARIO_OBESO',\n",
       "       'IN_LAMINA_OVERLAY', 'IN_PROTETOR_AURICULAR', 'IN_MEDIDOR_GLICOSE',\n",
       "       'IN_MAQUINA_BRAILE', 'IN_SOROBAN', 'IN_MARCA_PASSO', 'IN_SONDA',\n",
       "       'IN_MEDICAMENTOS', 'IN_SALA_INDIVIDUAL', 'IN_SALA_ESPECIAL',\n",
       "       'IN_SALA_ACOMPANHANTE', 'IN_MOBILIARIO_ESPECIFICO',\n",
       "       'IN_MATERIAL_ESPECIFICO', 'IN_NOME_SOCIAL', 'CO_MUNICIPIO_PROVA',\n",
       "       'NO_MUNICIPIO_PROVA', 'CO_UF_PROVA', 'SG_UF_PROVA',\n",
       "       'TP_PRESENCA_CN', 'TP_PRESENCA_CH', 'TP_PRESENCA_LC',\n",
       "       'TP_PRESENCA_MT', 'CO_PROVA_CN', 'CO_PROVA_CH', 'CO_PROVA_LC',\n",
       "       'CO_PROVA_MT', 'NU_NOTA_CN', 'NU_NOTA_CH', 'NU_NOTA_LC',\n",
       "       'NU_NOTA_MT', 'TX_RESPOSTAS_CN', 'TX_RESPOSTAS_CH',\n",
       "       'TX_RESPOSTAS_LC', 'TX_RESPOSTAS_MT', 'TP_LINGUA',\n",
       "       'TX_GABARITO_CN', 'TX_GABARITO_CH', 'TX_GABARITO_LC',\n",
       "       'TX_GABARITO_MT', 'TP_STATUS_REDACAO', 'NU_NOTA_COMP1',\n",
       "       'NU_NOTA_COMP2', 'NU_NOTA_COMP3', 'NU_NOTA_COMP4', 'NU_NOTA_COMP5',\n",
       "       'NU_NOTA_REDACAO', 'Q001', 'Q002', 'Q003', 'Q004', 'Q005', 'Q006',\n",
       "       'Q007', 'Q008', 'Q009', 'Q010', 'Q011', 'Q012', 'Q013', 'Q014',\n",
       "       'Q015', 'Q016', 'Q017', 'Q018', 'Q019', 'Q020', 'Q021', 'Q022',\n",
       "       'Q023', 'Q024', 'Q025'], dtype=object)"
      ]
     },
     "execution_count": 19,
     "metadata": {},
     "output_type": "execute_result"
    }
   ],
   "source": [
    "microdadods_enem_pb.columns.values"
   ]
  },
  {
   "cell_type": "code",
   "execution_count": 20,
   "metadata": {},
   "outputs": [
    {
     "data": {
      "text/plain": [
       "NU_NOTA_CN    467.781141\n",
       "NU_NOTA_CH    495.907691\n",
       "NU_NOTA_LC    510.048163\n",
       "NU_NOTA_MT    509.805636\n",
       "dtype: float64"
      ]
     },
     "execution_count": 20,
     "metadata": {},
     "output_type": "execute_result"
    }
   ],
   "source": [
    "microdadods_enem_pb[['NU_NOTA_CN', 'NU_NOTA_CH', 'NU_NOTA_LC',\n",
    "       'NU_NOTA_MT']].mean()"
   ]
  },
  {
   "cell_type": "code",
   "execution_count": 44,
   "metadata": {},
   "outputs": [
    {
     "data": {
      "text/html": [
       "\n",
       "<script>\n",
       "    require.config({\n",
       "        paths: {\n",
       "            'chartXkcd':'https://cdn.jsdelivr.net/npm/chart.xkcd@1.1/dist/chart.xkcd.min'\n",
       "        }\n",
       "    });\n",
       "</script>\n",
       "\n",
       "<div id=\"cad94a1074a94ccb9bb2acbc33f718b5\" class=\"chart-container\" style=\"width: 500px\">\n",
       "        <svg id=\"chart_cad94a1074a94ccb9bb2acbc33f718b5\"></svg>\n",
       "    </div>\n",
       "    <script>\n",
       "        require(['chartXkcd'], function(chartXkcd) {\n",
       "            const svg_cad94a1074a94ccb9bb2acbc33f718b5 = document.querySelector('#chart_cad94a1074a94ccb9bb2acbc33f718b5')\n",
       "            const chart_cad94a1074a94ccb9bb2acbc33f718b5 = new chartXkcd.Bar(svg_cad94a1074a94ccb9bb2acbc33f718b5, {\"title\": \"Medias Notas PB\", \"data\": {\"datasets\": [{\"label\": \"Media\", \"data\": [467.7811406311551, 495.90769127257124, 510.0481627572518, 509.8056357508644]}], \"labels\": [\"Natureza\", \"Humanas\", \"Linguagens\", \"Matem\\u00e1tica\"]}, \"xLabel\": \"Provas\", \"yLabel\": \"M\\u00e9dia por Prova\", \"options\": {\"yTickCount\": 3, \"dataColors\": [\"#FFF1C9\", \"#F7B7A3\", \"#EA5F89\", \"#9B3192\"]}});\n",
       "        })\n",
       "    </script>\n"
      ],
      "text/plain": [
       "<cutecharts.render.engine.HTML at 0x11947585b80>"
      ]
     },
     "execution_count": 44,
     "metadata": {},
     "output_type": "execute_result"
    }
   ],
   "source": [
    "import cutecharts.charts as ctc\n",
    "chart = ctc.Bar('Medias Notas PB', width=\"500px\", height=\"400px\")\n",
    "chart.set_options(\n",
    "    labels = ['Natureza', \"Humanas\", \"Linguagens\", \"Matemática\"],\n",
    "    x_label=\"Provas\",\n",
    "    y_label=\"Média por Prova\",\n",
    "    colors=['#FFF1C9', \"#F7B7A3\", \"#EA5F89\", \"#9B3192\"]\n",
    ")\n",
    "chart.add_series(\"Media\", list(microdadods_enem_pb[['NU_NOTA_CN', 'NU_NOTA_CH', 'NU_NOTA_LC', 'NU_NOTA_MT']].mean()))\n",
    "chart.render_notebook()"
   ]
  },
  {
   "cell_type": "code",
   "execution_count": 46,
   "metadata": {},
   "outputs": [
    {
     "data": {
      "text/html": [
       "\n",
       "<script>\n",
       "    require.config({\n",
       "        paths: {\n",
       "            'chartXkcd':'https://cdn.jsdelivr.net/npm/chart.xkcd@1.1/dist/chart.xkcd.min'\n",
       "        }\n",
       "    });\n",
       "</script>\n",
       "\n",
       "<div id=\"eceb4c63db0849f7b2be0fce459a6daf\" class=\"chart-container\" style=\"width: 500px\">\n",
       "        <svg id=\"chart_eceb4c63db0849f7b2be0fce459a6daf\"></svg>\n",
       "    </div>\n",
       "    <script>\n",
       "        require(['chartXkcd'], function(chartXkcd) {\n",
       "            const svg_eceb4c63db0849f7b2be0fce459a6daf = document.querySelector('#chart_eceb4c63db0849f7b2be0fce459a6daf')\n",
       "            const chart_eceb4c63db0849f7b2be0fce459a6daf = new chartXkcd.Bar(svg_eceb4c63db0849f7b2be0fce459a6daf, {\"title\": \"Mediana Notas PB\", \"data\": {\"datasets\": [{\"label\": \"Mediana\", \"data\": [458.2, 496.6, 514.7, 486.0]}], \"labels\": [\"Natureza\", \"Humanas\", \"Linguagens\", \"Matem\\u00e1tica\"]}, \"xLabel\": \"Provas\", \"yLabel\": \"M\\u00e9dia por Prova\", \"options\": {\"yTickCount\": 3, \"dataColors\": [\"#FFF1C9\", \"#F7B7A3\", \"#EA5F89\", \"#9B3192\"]}});\n",
       "        })\n",
       "    </script>\n"
      ],
      "text/plain": [
       "<cutecharts.render.engine.HTML at 0x1194726af30>"
      ]
     },
     "execution_count": 46,
     "metadata": {},
     "output_type": "execute_result"
    }
   ],
   "source": [
    "import cutecharts.charts as ctc\n",
    "chart = ctc.Bar('Mediana Notas PB', width=\"500px\", height=\"400px\")\n",
    "chart.set_options(\n",
    "    labels = ['Natureza', \"Humanas\", \"Linguagens\", \"Matemática\"],\n",
    "    x_label=\"Provas\",\n",
    "    y_label=\"Média por Prova\",\n",
    "    colors=['#FFF1C9', \"#F7B7A3\", \"#EA5F89\", \"#9B3192\"]\n",
    ")\n",
    "chart.add_series(\"Mediana\", list(microdadods_enem_pb[['NU_NOTA_CN', 'NU_NOTA_CH', 'NU_NOTA_LC', 'NU_NOTA_MT']].median()))\n",
    "chart.render_notebook()"
   ]
  },
  {
   "cell_type": "code",
   "execution_count": 48,
   "metadata": {},
   "outputs": [
    {
     "data": {
      "text/html": [
       "\n",
       "<script>\n",
       "    require.config({\n",
       "        paths: {\n",
       "            'chartXkcd':'https://cdn.jsdelivr.net/npm/chart.xkcd@1.1/dist/chart.xkcd.min'\n",
       "        }\n",
       "    });\n",
       "</script>\n",
       "\n",
       "<div id=\"be99753244a7439ab14421a267b74a2c\" class=\"chart-container\" style=\"width: 500px\">\n",
       "        <svg id=\"chart_be99753244a7439ab14421a267b74a2c\"></svg>\n",
       "    </div>\n",
       "    <script>\n",
       "        require(['chartXkcd'], function(chartXkcd) {\n",
       "            const svg_be99753244a7439ab14421a267b74a2c = document.querySelector('#chart_be99753244a7439ab14421a267b74a2c')\n",
       "            const chart_be99753244a7439ab14421a267b74a2c = new chartXkcd.Bar(svg_be99753244a7439ab14421a267b74a2c, {\"title\": \"MODA Notas PB\", \"data\": {\"datasets\": [{\"label\": \"Moda\", \"data\": [410.7, 0.0, 528.1, 446.4]}], \"labels\": [\"Natureza\", \"Humanas\", \"Linguagens\", \"Matem\\u00e1tica\"]}, \"xLabel\": \"Provas\", \"yLabel\": \"M\\u00e9dia por Prova\", \"options\": {\"yTickCount\": 3, \"dataColors\": [\"#FFF1C9\", \"#F7B7A3\", \"#EA5F89\", \"#9B3192\"]}});\n",
       "        })\n",
       "    </script>\n"
      ],
      "text/plain": [
       "<cutecharts.render.engine.HTML at 0x11947d35fd0>"
      ]
     },
     "execution_count": 48,
     "metadata": {},
     "output_type": "execute_result"
    }
   ],
   "source": [
    "import cutecharts.charts as ctc\n",
    "chart = ctc.Bar('MODA Notas PB', width=\"500px\", height=\"400px\")\n",
    "chart.set_options(\n",
    "    labels = ['Natureza', \"Humanas\", \"Linguagens\", \"Matemática\"],\n",
    "    x_label=\"Provas\",\n",
    "    y_label=\"Média por Prova\",\n",
    "    colors=['#FFF1C9', \"#F7B7A3\", \"#EA5F89\", \"#9B3192\"]\n",
    ")\n",
    "chart.add_series(\"Moda\", list(microdadods_enem_pb[['NU_NOTA_CN', 'NU_NOTA_CH', 'NU_NOTA_LC', 'NU_NOTA_MT']].mode().iloc[0]))\n",
    "chart.render_notebook()"
   ]
  },
  {
   "cell_type": "code",
   "execution_count": 49,
   "metadata": {},
   "outputs": [
    {
     "data": {
      "text/html": [
       "\n",
       "<script>\n",
       "    require.config({\n",
       "        paths: {\n",
       "            'chartXkcd':'https://cdn.jsdelivr.net/npm/chart.xkcd@1.1/dist/chart.xkcd.min'\n",
       "        }\n",
       "    });\n",
       "</script>\n",
       "\n",
       "<div id=\"58ce3a3de9ca45e19284fd945ffa0770\" class=\"chart-container\" style=\"width: 500px\">\n",
       "        <svg id=\"chart_58ce3a3de9ca45e19284fd945ffa0770\"></svg>\n",
       "    </div>\n",
       "    <script>\n",
       "        require(['chartXkcd'], function(chartXkcd) {\n",
       "            const svg_58ce3a3de9ca45e19284fd945ffa0770 = document.querySelector('#chart_58ce3a3de9ca45e19284fd945ffa0770')\n",
       "            const chart_58ce3a3de9ca45e19284fd945ffa0770 = new chartXkcd.Bar(svg_58ce3a3de9ca45e19284fd945ffa0770, {\"title\": \"Desvio padr\\u00e3o Notas PB\", \"data\": {\"datasets\": [{\"label\": \"Desvio padr\\u00e3o\", \"data\": [73.09811916325853, 81.43215376257423, 64.3163916424401, 104.20539833021384]}], \"labels\": [\"Natureza\", \"Humanas\", \"Linguagens\", \"Matem\\u00e1tica\"]}, \"xLabel\": \"Provas\", \"yLabel\": \"M\\u00e9dia por Prova\", \"options\": {\"yTickCount\": 3, \"dataColors\": [\"#FFF1C9\", \"#F7B7A3\", \"#EA5F89\", \"#9B3192\"]}});\n",
       "        })\n",
       "    </script>\n"
      ],
      "text/plain": [
       "<cutecharts.render.engine.HTML at 0x11947d37290>"
      ]
     },
     "execution_count": 49,
     "metadata": {},
     "output_type": "execute_result"
    }
   ],
   "source": [
    "import cutecharts.charts as ctc\n",
    "chart = ctc.Bar('Desvio padrão Notas PB', width=\"500px\", height=\"400px\")\n",
    "chart.set_options(\n",
    "    labels = ['Natureza', \"Humanas\", \"Linguagens\", \"Matemática\"],\n",
    "    x_label=\"Provas\",\n",
    "    y_label=\"Média por Prova\",\n",
    "    colors=['#FFF1C9', \"#F7B7A3\", \"#EA5F89\", \"#9B3192\"]\n",
    ")\n",
    "chart.add_series(\"Desvio padrão\", list(microdadods_enem_pb[['NU_NOTA_CN', 'NU_NOTA_CH', 'NU_NOTA_LC', 'NU_NOTA_MT']].std()))\n",
    "chart.render_notebook()"
   ]
  }
 ],
 "metadata": {
  "kernelspec": {
   "display_name": "Python 3",
   "language": "python",
   "name": "python3"
  },
  "language_info": {
   "codemirror_mode": {
    "name": "ipython",
    "version": 3
   },
   "file_extension": ".py",
   "mimetype": "text/x-python",
   "name": "python",
   "nbconvert_exporter": "python",
   "pygments_lexer": "ipython3",
   "version": "3.12.0"
  }
 },
 "nbformat": 4,
 "nbformat_minor": 2
}
